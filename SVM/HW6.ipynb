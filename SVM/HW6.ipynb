{
 "cells": [
  {
   "cell_type": "markdown",
   "metadata": {},
   "source": [
    "# Homework 6\n",
    "You need to classify digits with SVM models in this homework. Use PCA to reduce data dimensionality (80% information remain). Compare performance of linear, radial, and polynomial kernals. Tune kernal parameters using Randomsearch method."
   ]
  },
  {
   "cell_type": "code",
   "execution_count": 2,
   "metadata": {},
   "outputs": [
    {
     "data": {
      "image/png": "[encoded data removed]",
      "text/plain": [
       "<Figure size 720x288 with 40 Axes>"
      ]
     },
     "metadata": {},
     "output_type": "display_data"
    }
   ],
   "source": [
    "%matplotlib inline\n",
    "import numpy as np\n",
    "import matplotlib.pyplot as plt\n",
    "from scipy import stats\n",
    "\n",
    "# use seaborn plotting defaults\n",
    "import seaborn as sns; sns.set()\n",
    "from sklearn import datasets, svm, metrics\n",
    "\n",
    "# The digits dataset\n",
    "digits = datasets.load_digits()\n",
    "\n",
    "def plot_digits(data):\n",
    "    fig, axes = plt.subplots(4, 10, figsize=(10, 4),\n",
    "                             subplot_kw={'xticks':[], 'yticks':[]},\n",
    "                             gridspec_kw=dict(hspace=0.1, wspace=0.1))\n",
    "    for i, ax in enumerate(axes.flat):\n",
    "        ax.imshow(data[i].reshape(8, 8),\n",
    "                  cmap='binary', interpolation='nearest',\n",
    "                  clim=(0, 16))\n",
    "plot_digits(digits.data)"
   ]
  },
  {
   "cell_type": "code",
   "execution_count": 4,
   "metadata": {},
   "outputs": [],
   "source": [
    "# data labels\n",
    "images_and_labels = list(zip(digits.images, digits.target))\n",
    "n_samples = len(digits.images)\n",
    "data = digits.images.reshape((n_samples, -1))"
   ]
  },
  {
   "cell_type": "code",
   "execution_count": 5,
   "metadata": {},
   "outputs": [
    {
     "name": "stdout",
     "output_type": "stream",
     "text": [
      "Original number of features: (1797, 64)\n",
      "Reduced number of features: (1797, 21)\n",
      "(1797, 64)\n"
     ]
    }
   ],
   "source": [
    "# Principal Component Analysis\n",
    "from sklearn.decomposition import PCA\n",
    "from sklearn.preprocessing import StandardScaler\n",
    "\n",
    "X = StandardScaler().fit_transform(data)\n",
    "\n",
    "# 80% of variance\n",
    "pca = PCA(n_components = 0.80, whiten = True)\n",
    "\n",
    "X_pca = pca.fit_transform(X)\n",
    "print(\"Original number of features:\", X.shape)\n",
    "print(\"Reduced number of features:\", X_pca.shape)\n",
    "print(digits['data'].shape)\n"
   ]
  },
  {
   "cell_type": "code",
   "execution_count": 6,
   "metadata": {},
   "outputs": [
    {
     "name": "stdout",
     "output_type": "stream",
     "text": [
      "(1257, 21) (1257,)\n",
      "(540, 21) (540,)\n"
     ]
    }
   ],
   "source": [
    "from sklearn.model_selection import train_test_split\n",
    "\n",
    "X_train, X_test, y_train, y_test = train_test_split(X_pca,digits['target'], test_size = 0.3, random_state = 0)\n",
    "print(X_train.shape, y_train.shape)\n",
    "print(X_test.shape, y_test.shape)"
   ]
  },
  {
   "cell_type": "code",
   "execution_count": 7,
   "metadata": {},
   "outputs": [],
   "source": [
    "#Comparing performance of linear, polynomial and radial kernels\n",
    "from sklearn.model_selection import cross_val_score\n",
    "from sklearn.svm import SVC"
   ]
  },
  {
   "cell_type": "code",
   "execution_count": 8,
   "metadata": {},
   "outputs": [
    {
     "name": "stderr",
     "output_type": "stream",
     "text": [
      "/home/savitha/.local/lib/python3.8/site-packages/sklearn/model_selection/_search.py:285: UserWarning: The total space of parameters 4 is smaller than n_iter=50. Running 4 iterations. For exhaustive searches, use GridSearchCV.\n",
      "  warnings.warn(\n"
     ]
    },
    {
     "name": "stdout",
     "output_type": "stream",
     "text": [
      "{'C': 0.1}\n",
      "Accuracy score: 0.9666666666666667\n"
     ]
    }
   ],
   "source": [
    "#Performance tuning of Linear kernel using RandomizedSearchCV\n",
    "from sklearn.model_selection import RandomizedSearchCV\n",
    "from sklearn.metrics import accuracy_score\n",
    "\n",
    "model = svm.SVC(kernel='linear')\n",
    "\n",
    "hyper_params = {'C': [0.1, 1, 10, 100]\n",
    "                }\n",
    "\n",
    "\n",
    "model_cv = RandomizedSearchCV(\n",
    "            estimator = model,\n",
    "            param_distributions = hyper_params,\n",
    "            cv = 10,\n",
    "            n_iter = 50\n",
    "            )\n",
    "\n",
    "\n",
    "model_cv.fit(X_train, y_train)\n",
    "best_hyperparam = model_cv.best_params_\n",
    "print(best_hyperparam)\n",
    "\n",
    "best_model = svm.SVC(C=best_hyperparam['C'], kernel = 'linear')\n",
    "best_model.fit(X_train, y_train)\n",
    "y_pred = best_model.predict(X_test)\n",
    "print('Accuracy score:', metrics.accuracy_score(y_test, y_pred))"
   ]
  },
  {
   "cell_type": "code",
   "execution_count": 10,
   "metadata": {},
   "outputs": [
    {
     "name": "stderr",
     "output_type": "stream",
     "text": [
      "/home/savitha/.local/lib/python3.8/site-packages/sklearn/model_selection/_search.py:285: UserWarning: The total space of parameters 6 is smaller than n_iter=50. Running 6 iterations. For exhaustive searches, use GridSearchCV.\n",
      "  warnings.warn(\n"
     ]
    },
    {
     "name": "stdout",
     "output_type": "stream",
     "text": [
      "{'degree': 3}\n",
      "Accuracy score: 0.9611111111111111\n"
     ]
    }
   ],
   "source": [
    "#Performance tuning of Polynomial kernel using RandomizedSearchCV\n",
    "\n",
    "model = svm.SVC(kernel='poly')\n",
    "\n",
    "hyper_params = {\n",
    "                'degree': [2, 3, 4, 5, 6, 7]\n",
    "                }             \n",
    "\n",
    "\n",
    "model_cv = RandomizedSearchCV(\n",
    "            estimator = model,\n",
    "            param_distributions = hyper_params,\n",
    "            cv = 10,\n",
    "            n_iter = 50\n",
    "            )\n",
    "\n",
    "\n",
    "model_cv.fit(X_train, y_train)\n",
    "best_hyperparam = model_cv.best_params_\n",
    "print(best_hyperparam)\n",
    "\n",
    "best_model = svm.SVC(kernel = 'poly', degree = best_hyperparam['degree'])\n",
    "best_model.fit(X_train, y_train)\n",
    "y_pred = best_model.predict(X_test)\n",
    "print('Accuracy score:', metrics.accuracy_score(y_test, y_pred))\n"
   ]
  },
  {
   "cell_type": "code",
   "execution_count": 12,
   "metadata": {},
   "outputs": [
    {
     "name": "stderr",
     "output_type": "stream",
     "text": [
      "/home/savitha/.local/lib/python3.8/site-packages/sklearn/model_selection/_search.py:285: UserWarning: The total space of parameters 5 is smaller than n_iter=50. Running 5 iterations. For exhaustive searches, use GridSearchCV.\n",
      "  warnings.warn(\n"
     ]
    },
    {
     "name": "stdout",
     "output_type": "stream",
     "text": [
      "{'gamma': 0.1}\n",
      "Accuracy score: 0.9740740740740741\n"
     ]
    }
   ],
   "source": [
    "#Performance tuning of Radial kernel using RandomizedSearchCV\n",
    "\n",
    "model = svm.SVC(kernel='rbf')\n",
    "\n",
    "hyper_params = {\n",
    "                'gamma': [0.1, 0.01, 0.001, 0.0001, 1]\n",
    "               }            \n",
    "\n",
    "\n",
    "model_cv = RandomizedSearchCV(\n",
    "            estimator = model,\n",
    "            param_distributions = hyper_params,\n",
    "            cv = 10,\n",
    "            n_iter = 50\n",
    "            )\n",
    "\n",
    "\n",
    "model_cv.fit(X_train, y_train)\n",
    "best_hyperparam = model_cv.best_params_\n",
    "print(best_hyperparam)\n",
    "\n",
    "best_model = svm.SVC(kernel = 'rbf', gamma = best_hyperparam['gamma'])\n",
    "best_model.fit(X_train, y_train)\n",
    "y_pred = best_model.predict(X_test)\n",
    "print('Accuracy score:', metrics.accuracy_score(y_test, y_pred))\n",
    " "
   ]
  }
 ],
 "metadata": {
  "kernelspec": {
   "display_name": "Python 3 (ipykernel)",
   "language": "python",
   "name": "python3"
  },
  "language_info": {
   "codemirror_mode": {
    "name": "ipython",
    "version": 3
   },
   "file_extension": ".py",
   "mimetype": "text/x-python",
   "name": "python",
   "nbconvert_exporter": "python",
   "pygments_lexer": "ipython3",
   "version": "3.8.10"
  }
 },
 "nbformat": 4,
 "nbformat_minor": 2
}
